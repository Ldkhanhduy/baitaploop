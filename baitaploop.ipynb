{
  "nbformat": 4,
  "nbformat_minor": 0,
  "metadata": {
    "colab": {
      "name": "baitaploop.ipynb",
      "provenance": [],
      "authorship_tag": "ABX9TyPsPj5dQF7uPD7lY78Heb1Z",
      "include_colab_link": true
    },
    "kernelspec": {
      "name": "python3",
      "display_name": "Python 3"
    },
    "language_info": {
      "name": "python"
    }
  },
  "cells": [
    {
      "cell_type": "markdown",
      "metadata": {
        "id": "view-in-github",
        "colab_type": "text"
      },
      "source": [
        "<a href=\"https://colab.research.google.com/github/Ldkhanhduy/baitaploop/blob/main/baitaploop.ipynb\" target=\"_parent\"><img src=\"https://colab.research.google.com/assets/colab-badge.svg\" alt=\"Open In Colab\"/></a>"
      ]
    },
    {
      "cell_type": "code",
      "metadata": {
        "colab": {
          "base_uri": "https://localhost:8080/"
        },
        "id": "mN37REOJMi3_",
        "outputId": "71b5e255-ae4a-4a78-c15c-d05a32186e5d"
      },
      "source": [
        "#Bai 1:\n",
        "i=0\n",
        "while i<10:\n",
        "  print(i)\n",
        "  i+=1"
      ],
      "execution_count": 32,
      "outputs": [
        {
          "output_type": "stream",
          "name": "stdout",
          "text": [
            "0\n",
            "1\n",
            "2\n",
            "3\n",
            "4\n",
            "5\n",
            "6\n",
            "7\n",
            "8\n",
            "9\n"
          ]
        }
      ]
    },
    {
      "cell_type": "code",
      "metadata": {
        "colab": {
          "base_uri": "https://localhost:8080/"
        },
        "id": "sKS8TktJM0MR",
        "outputId": "02f87bd7-30ee-4f6a-b570-44e6ecf70060"
      },
      "source": [
        "#Bai 2:\n",
        "row=int(input(\"nhap hang: \"))\n",
        "for i in range(row, 0, -1):\n",
        "  for j in range(i, 0, -1):\n",
        "    if j==1:\n",
        "      print(j)\n",
        "    else:\n",
        "      print(j, end='')\n",
        "print('\\n')\n",
        "\n",
        "  \n",
        "  "
      ],
      "execution_count": 57,
      "outputs": [
        {
          "output_type": "stream",
          "name": "stdout",
          "text": [
            "nhap hang: 8\n",
            "87654321\n",
            "7654321\n",
            "654321\n",
            "54321\n",
            "4321\n",
            "321\n",
            "21\n",
            "1\n",
            "\n",
            "\n"
          ]
        }
      ]
    },
    {
      "cell_type": "code",
      "metadata": {
        "colab": {
          "base_uri": "https://localhost:8080/"
        },
        "id": "KL8ES3CJNGsU",
        "outputId": "6632dee4-60fd-47ee-8839-227a81a43c56"
      },
      "source": [
        "#Bai 3:\n",
        "a=int(input(\"a= \"))\n",
        "sum=0\n",
        "for i in range(1, a+1):\n",
        "  sum=sum+i\n",
        "print(sum)"
      ],
      "execution_count": 56,
      "outputs": [
        {
          "output_type": "stream",
          "name": "stdout",
          "text": [
            "a= 8\n",
            "36\n"
          ]
        }
      ]
    },
    {
      "cell_type": "code",
      "metadata": {
        "colab": {
          "base_uri": "https://localhost:8080/"
        },
        "id": "IbvoqCH9Olvu",
        "outputId": "4690b7cd-aea8-4c4d-bc8d-7c0766a16163"
      },
      "source": [
        "#Bai 4:\n",
        "b=float(input(\"b= \"))\n",
        "for i in range(1,11):\n",
        "  print(b, \"x\", i, \"=\", b*i)"
      ],
      "execution_count": 48,
      "outputs": [
        {
          "output_type": "stream",
          "name": "stdout",
          "text": [
            "b= 5\n",
            "5.0 x 1 = 5.0\n",
            "5.0 x 2 = 10.0\n",
            "5.0 x 3 = 15.0\n",
            "5.0 x 4 = 20.0\n",
            "5.0 x 5 = 25.0\n",
            "5.0 x 6 = 30.0\n",
            "5.0 x 7 = 35.0\n",
            "5.0 x 8 = 40.0\n",
            "5.0 x 9 = 45.0\n",
            "5.0 x 10 = 50.0\n"
          ]
        }
      ]
    },
    {
      "cell_type": "code",
      "metadata": {
        "colab": {
          "base_uri": "https://localhost:8080/"
        },
        "id": "5gWCIt_LOstr",
        "outputId": "32ce3a5d-d36b-45f5-e3df-373ee0750025"
      },
      "source": [
        "#Bai 5:\n",
        "list1=[0, 1, 2, 3, 4, 5, 6, 7, 8, 9]\n",
        "for i in list1:\n",
        "  print(i)"
      ],
      "execution_count": 9,
      "outputs": [
        {
          "output_type": "stream",
          "name": "stdout",
          "text": [
            "0\n",
            "1\n",
            "2\n",
            "3\n",
            "4\n",
            "5\n",
            "6\n",
            "7\n",
            "8\n",
            "9\n"
          ]
        }
      ]
    },
    {
      "cell_type": "code",
      "metadata": {
        "colab": {
          "base_uri": "https://localhost:8080/"
        },
        "id": "Oz4qXrvBPOCZ",
        "outputId": "0213945d-6cbe-480a-cb94-9898a32a0958"
      },
      "source": [
        "#Bai 6:\n",
        "a6=input(\" Nhap so can dien: \")\n",
        "b6=0\n",
        "for i in a6:\n",
        "  b6+=1\n",
        "print(\"so cac chu so: \", b6)"
      ],
      "execution_count": 80,
      "outputs": [
        {
          "output_type": "stream",
          "name": "stdout",
          "text": [
            " Nhap so can dien: 18725397261531864\n",
            "so cac chu so:  17\n"
          ]
        }
      ]
    },
    {
      "cell_type": "code",
      "metadata": {
        "colab": {
          "base_uri": "https://localhost:8080/"
        },
        "id": "ILS1wJLNQPrK",
        "outputId": "0ed1679d-0cd0-4df2-f813-a57d829d039d"
      },
      "source": [
        "#Bai 7:\n",
        "x=[1, 2, 3, 4, 5]\n",
        "for i in reversed(x): print(i)"
      ],
      "execution_count": 50,
      "outputs": [
        {
          "output_type": "stream",
          "name": "stdout",
          "text": [
            "5\n",
            "4\n",
            "3\n",
            "2\n",
            "1\n"
          ]
        }
      ]
    },
    {
      "cell_type": "code",
      "metadata": {
        "colab": {
          "base_uri": "https://localhost:8080/"
        },
        "id": "YuLohM2MQQBs",
        "outputId": "f43bb763-e47c-4ce6-a723-32b364e27d5b"
      },
      "source": [
        "#Bai 8:\n",
        "for i in range(-10, 0): print(i)"
      ],
      "execution_count": 20,
      "outputs": [
        {
          "output_type": "stream",
          "name": "stdout",
          "text": [
            "-10\n",
            "-9\n",
            "-8\n",
            "-7\n",
            "-6\n",
            "-5\n",
            "-4\n",
            "-3\n",
            "-2\n",
            "-1\n"
          ]
        }
      ]
    },
    {
      "cell_type": "code",
      "metadata": {
        "colab": {
          "base_uri": "https://localhost:8080/"
        },
        "id": "hoD9KWDnQjPt",
        "outputId": "49c3afff-def5-49c3-a825-5e5f6667209d"
      },
      "source": [
        "#Bai 9:\n",
        "X=[\"a\", \"b\", \"c\", \"d\"]\n",
        "for i in X:\n",
        "  print(i)\n",
        "else: print(\"DONE!\")"
      ],
      "execution_count": 27,
      "outputs": [
        {
          "output_type": "stream",
          "name": "stdout",
          "text": [
            "a\n",
            "b\n",
            "c\n",
            "d\n",
            "DONE!\n"
          ]
        }
      ]
    },
    {
      "cell_type": "code",
      "metadata": {
        "colab": {
          "base_uri": "https://localhost:8080/"
        },
        "id": "PsBy4BRWRz7k",
        "outputId": "2d3e2089-aef5-42ee-cb2a-5d5a5164b140"
      },
      "source": [
        "#Bai 10:\n",
        "a10 = int(input(\"Nhap so dau: \"))  \n",
        "b10 = int(input(\"Nhap so cuoi: \"))  \n",
        "  \n",
        "for num in range(a10,b10 + 1):  \n",
        "   if num > 1:  \n",
        "       for i in range(2,num):  \n",
        "           if (num % i) == 0:  \n",
        "               break  \n",
        "       else:  \n",
        "           print(num)  "
      ],
      "execution_count": 62,
      "outputs": [
        {
          "output_type": "stream",
          "name": "stdout",
          "text": [
            "Nhap so dau: 1\n",
            "Nhap so cuoi: 8\n",
            "2\n",
            "3\n",
            "5\n",
            "7\n"
          ]
        }
      ]
    },
    {
      "cell_type": "code",
      "metadata": {
        "colab": {
          "base_uri": "https://localhost:8080/"
        },
        "id": "zWaAAsJtVdPg",
        "outputId": "9e3e684c-de37-409b-accf-7d9889c3618f"
      },
      "source": [
        "#Bai 11:\n",
        "term=int(input(\"term= \"))\n",
        "a11, b11, c11= 0, 1, 0\n",
        "while term<=0:\n",
        "  term=int(input(\"Nhap lai: \"))\n",
        "else:\n",
        "  if term==1:\n",
        "    print(a11)\n",
        "  else:\n",
        "    while c11 < term:\n",
        "      d11=a11+b11\n",
        "      a11=b11\n",
        "      b11=d11\n",
        "      c11+=1\n",
        "      print(a11)\n"
      ],
      "execution_count": 68,
      "outputs": [
        {
          "output_type": "stream",
          "name": "stdout",
          "text": [
            "term= -4\n",
            "Nhap lai: 10\n",
            "1\n",
            "1\n",
            "2\n",
            "3\n",
            "5\n",
            "8\n",
            "13\n",
            "21\n",
            "34\n",
            "55\n"
          ]
        }
      ]
    },
    {
      "cell_type": "code",
      "metadata": {
        "colab": {
          "base_uri": "https://localhost:8080/"
        },
        "id": "4XB1CVkYVezc",
        "outputId": "9f187bd4-d742-4481-9d4d-16b89559fe23"
      },
      "source": [
        "#Bai 12:\n",
        "a=int(input(\"a= \"))\n",
        "i=1\n",
        "for i in range(1, a):\n",
        "  a=a*i\n",
        "print(\"Giai thua la:\", a)"
      ],
      "execution_count": 41,
      "outputs": [
        {
          "output_type": "stream",
          "name": "stdout",
          "text": [
            "a= 9\n",
            "Giai thua la: 362880\n"
          ]
        }
      ]
    },
    {
      "cell_type": "code",
      "metadata": {
        "colab": {
          "base_uri": "https://localhost:8080/"
        },
        "id": "Da2uHdJOtdjh",
        "outputId": "a9b5ca41-fd31-4f26-920d-4e071af03f10"
      },
      "source": [
        "#Bai 13:\n",
        "a13=int(input(\"a13= \"))\n",
        "rev=0\n",
        "while a13>0:\n",
        "  a = a13 % 10\n",
        "  rev = rev * 10 + a\n",
        "  a13 = a13 // 10\n",
        "print(rev)"
      ],
      "execution_count": 79,
      "outputs": [
        {
          "output_type": "stream",
          "name": "stdout",
          "text": [
            "a13= 1234\n",
            "4321\n"
          ]
        }
      ]
    },
    {
      "cell_type": "code",
      "metadata": {
        "colab": {
          "base_uri": "https://localhost:8080/"
        },
        "id": "0tyoBbuFrRf7",
        "outputId": "237ca556-e79c-4786-dbe9-6379a933ac2e"
      },
      "source": [
        "#Bai 14:\n",
        "list14=list(input(\"list14=\"))\n",
        "for i in range(len(list14)):\n",
        "  if i%2==1:\n",
        "    print(i)"
      ],
      "execution_count": 71,
      "outputs": [
        {
          "output_type": "stream",
          "name": "stdout",
          "text": [
            "list14=1 2 3 4 5 6 7\n",
            "1\n",
            "3\n",
            "5\n",
            "7\n",
            "9\n",
            "11\n"
          ]
        }
      ]
    },
    {
      "cell_type": "code",
      "metadata": {
        "colab": {
          "base_uri": "https://localhost:8080/"
        },
        "id": "dpU5PrEis2V4",
        "outputId": "06010531-611f-43e3-f45b-be6f1b362eb8"
      },
      "source": [
        "#Bai 15:\n",
        "a15=int(input(\"Nhap so cuoi: \"))\n",
        "for i in range(1, a15+1):\n",
        "  i=i**3\n",
        "  print(i)"
      ],
      "execution_count": 72,
      "outputs": [
        {
          "output_type": "stream",
          "name": "stdout",
          "text": [
            "Nhap so cuoi: 5\n",
            "1\n",
            "8\n",
            "27\n",
            "64\n",
            "125\n"
          ]
        }
      ]
    }
  ]
}